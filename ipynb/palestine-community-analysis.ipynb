{
 "metadata": {
  "name": "",
  "signature": "sha256:05ec989e07be196db37548233d4840024f375a105b73e6ca45419f5870b0aa7a"
 },
 "nbformat": 3,
 "nbformat_minor": 0,
 "worksheets": [
  {
   "cells": [
    {
     "cell_type": "code",
     "collapsed": false,
     "input": [
      "%matplotlib inline\n",
      "\n",
      "import matplotlib.pyplot as plt\n",
      "import json\n",
      "import pandas as pd"
     ],
     "language": "python",
     "metadata": {},
     "outputs": [],
     "prompt_number": 1
    },
    {
     "cell_type": "code",
     "collapsed": false,
     "input": [
      "path = '112914.csv'\n",
      "\n",
      "df = pd.read_csv(path, header=0, low_memory=False, names=[\"id\",\"tweet\",\"tid\",\"uid\",\"datetime\", \"coordinates\"], index_col='datetime', parse_dates=True)"
     ],
     "language": "python",
     "metadata": {},
     "outputs": [],
     "prompt_number": 2
    },
    {
     "cell_type": "code",
     "collapsed": false,
     "input": [
      "users = list(set(df.uid))"
     ],
     "language": "python",
     "metadata": {},
     "outputs": [],
     "prompt_number": 10
    },
    {
     "cell_type": "code",
     "collapsed": false,
     "input": [
      "# Hashtags\n",
      "import re\n",
      "from collections import Counter\n",
      "from collections import defaultdict\n",
      "\n",
      "re_hash = re.compile(r'#[0-9a-zA-Z+_]*',re.IGNORECASE)\n",
      "\n",
      "all_hashtags = set()\n",
      "\n",
      "for t in df.tweet:\n",
      "    all_hashtags.update(re.findall(re_hash, t))"
     ],
     "language": "python",
     "metadata": {},
     "outputs": [],
     "prompt_number": 40
    },
    {
     "cell_type": "code",
     "collapsed": false,
     "input": [
      "len(all_hashtags)"
     ],
     "language": "python",
     "metadata": {},
     "outputs": [
      {
       "metadata": {},
       "output_type": "pyout",
       "prompt_number": 41,
       "text": [
        "23017"
       ]
      }
     ],
     "prompt_number": 41
    },
    {
     "cell_type": "code",
     "collapsed": false,
     "input": [
      "## let's create a dictionary that maps users to the tags they use. \n",
      "## for each user, we'll initialize a list whose length is the number of tags in our dataset.\n",
      "\n",
      "users_to_tags = {}\n",
      "for u in users:\n",
      "    users_to_tags[u]=[0]*len(all_hashtags)"
     ],
     "language": "python",
     "metadata": {},
     "outputs": []
    },
    {
     "cell_type": "code",
     "collapsed": false,
     "input": [
      "## let's loop through every object in our data. if tags exist, we'll increment that hashtags index.\n",
      "\n",
      "for m in all_media:\n",
      "    if hasattr(m, 'tags'):\n",
      "        for t in m.tags:\n",
      "            #if t.name in all_tags:\n",
      "            cur_index = all_tags.index(t.name)\n",
      "            users_to_tags[m.user.username][cur_index]+=1"
     ],
     "language": "python",
     "metadata": {},
     "outputs": [
      {
       "metadata": {},
       "output_type": "pyout",
       "prompt_number": 33,
       "text": [
        "{}"
       ]
      }
     ],
     "prompt_number": 33
    },
    {
     "cell_type": "code",
     "collapsed": false,
     "input": [],
     "language": "python",
     "metadata": {},
     "outputs": []
    }
   ],
   "metadata": {}
  }
 ]
}