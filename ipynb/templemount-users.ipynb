{
 "metadata": {
  "name": "",
  "signature": "sha256:e1272949664e8e068de8dbfeea1ed310c491787ce270f9ef4cd60f0e2a9142cc"
 },
 "nbformat": 3,
 "nbformat_minor": 0,
 "worksheets": [
  {
   "cells": [
    {
     "cell_type": "code",
     "collapsed": false,
     "input": [
      "%matplotlib inline\n",
      "\n",
      "import matplotlib.pyplot as plt\n",
      "import json\n",
      "import pandas as pd\n"
     ],
     "language": "python",
     "metadata": {},
     "outputs": [],
     "prompt_number": 2
    },
    {
     "cell_type": "code",
     "collapsed": false,
     "input": [
      "path = '112914.csv'\n",
      "\n",
      "df = pd.read_csv(path, header=0, low_memory=False, names=[\"id\",\"tweet\",\"tid\",\"uid\",\"datetime\", \"coordinates\"], index_col='datetime', parse_dates=True)"
     ],
     "language": "python",
     "metadata": {},
     "outputs": [],
     "prompt_number": 3
    },
    {
     "cell_type": "code",
     "collapsed": false,
     "input": [
      "df.head()"
     ],
     "language": "python",
     "metadata": {},
     "outputs": [
      {
       "html": [
        "<div style=\"max-height:1000px;max-width:1500px;overflow:auto;\">\n",
        "<table border=\"1\" class=\"dataframe\">\n",
        "  <thead>\n",
        "    <tr style=\"text-align: right;\">\n",
        "      <th></th>\n",
        "      <th>id</th>\n",
        "      <th>tweet</th>\n",
        "      <th>tid</th>\n",
        "      <th>uid</th>\n",
        "      <th>coordinates</th>\n",
        "    </tr>\n",
        "    <tr>\n",
        "      <th>datetime</th>\n",
        "      <th></th>\n",
        "      <th></th>\n",
        "      <th></th>\n",
        "      <th></th>\n",
        "      <th></th>\n",
        "    </tr>\n",
        "  </thead>\n",
        "  <tbody>\n",
        "    <tr>\n",
        "      <th>2014-11-08 17:30:58</th>\n",
        "      <td> 53522</td>\n",
        "      <td> An Eyewitness to Shujaia Massacre http://t.co/...</td>\n",
        "      <td> 531136810861473792</td>\n",
        "      <td>  7180</td>\n",
        "      <td> NaN</td>\n",
        "    </tr>\n",
        "    <tr>\n",
        "      <th>2014-11-08 17:30:58</th>\n",
        "      <td> 53523</td>\n",
        "      <td> RT @PalestineSocial: Shaikh \"Raed Salah\" joins...</td>\n",
        "      <td> 531136812463292417</td>\n",
        "      <td> 27020</td>\n",
        "      <td> NaN</td>\n",
        "    </tr>\n",
        "    <tr>\n",
        "      <th>2014-11-08 17:30:59</th>\n",
        "      <td> 53524</td>\n",
        "      <td> RT @nathmaza: \"@Bnno88: Apr\u00e8s avoir pass\u00e9 11 a...</td>\n",
        "      <td> 531136816254947328</td>\n",
        "      <td>  2503</td>\n",
        "      <td> NaN</td>\n",
        "    </tr>\n",
        "    <tr>\n",
        "      <th>2014-11-08 17:31:00</th>\n",
        "      <td> 53525</td>\n",
        "      <td> RT @israel_shield: .@garciamfeco you have a pr...</td>\n",
        "      <td> 531136821258752001</td>\n",
        "      <td>  1590</td>\n",
        "      <td> NaN</td>\n",
        "    </tr>\n",
        "    <tr>\n",
        "      <th>2014-11-08 17:31:01</th>\n",
        "      <td> 53526</td>\n",
        "      <td> #economic   #palestine  #struggle more than 60...</td>\n",
        "      <td> 531136823972884481</td>\n",
        "      <td> 11760</td>\n",
        "      <td> NaN</td>\n",
        "    </tr>\n",
        "  </tbody>\n",
        "</table>\n",
        "</div>"
       ],
       "metadata": {},
       "output_type": "pyout",
       "prompt_number": 3,
       "text": [
        "                        id                                              tweet  \\\n",
        "datetime                                                                        \n",
        "2014-11-08 17:30:58  53522  An Eyewitness to Shujaia Massacre http://t.co/...   \n",
        "2014-11-08 17:30:58  53523  RT @PalestineSocial: Shaikh \"Raed Salah\" joins...   \n",
        "2014-11-08 17:30:59  53524  RT @nathmaza: \"@Bnno88: Apr\u00e8s avoir pass\u00e9 11 a...   \n",
        "2014-11-08 17:31:00  53525  RT @israel_shield: .@garciamfeco you have a pr...   \n",
        "2014-11-08 17:31:01  53526  #economic   #palestine  #struggle more than 60...   \n",
        "\n",
        "                                    tid    uid coordinates  \n",
        "datetime                                                    \n",
        "2014-11-08 17:30:58  531136810861473792   7180         NaN  \n",
        "2014-11-08 17:30:58  531136812463292417  27020         NaN  \n",
        "2014-11-08 17:30:59  531136816254947328   2503         NaN  \n",
        "2014-11-08 17:31:00  531136821258752001   1590         NaN  \n",
        "2014-11-08 17:31:01  531136823972884481  11760         NaN  "
       ]
      }
     ],
     "prompt_number": 3
    },
    {
     "cell_type": "code",
     "collapsed": false,
     "input": [
      "new_df = df.drop(['id','tweet','coordinates','tid'], 1)"
     ],
     "language": "python",
     "metadata": {},
     "outputs": [],
     "prompt_number": 4
    },
    {
     "cell_type": "code",
     "collapsed": false,
     "input": [
      "new_df.head()"
     ],
     "language": "python",
     "metadata": {},
     "outputs": [
      {
       "html": [
        "<div style=\"max-height:1000px;max-width:1500px;overflow:auto;\">\n",
        "<table border=\"1\" class=\"dataframe\">\n",
        "  <thead>\n",
        "    <tr style=\"text-align: right;\">\n",
        "      <th></th>\n",
        "      <th>uid</th>\n",
        "    </tr>\n",
        "    <tr>\n",
        "      <th>datetime</th>\n",
        "      <th></th>\n",
        "    </tr>\n",
        "  </thead>\n",
        "  <tbody>\n",
        "    <tr>\n",
        "      <th>2014-11-08 17:30:58</th>\n",
        "      <td>  7180</td>\n",
        "    </tr>\n",
        "    <tr>\n",
        "      <th>2014-11-08 17:30:58</th>\n",
        "      <td> 27020</td>\n",
        "    </tr>\n",
        "    <tr>\n",
        "      <th>2014-11-08 17:30:59</th>\n",
        "      <td>  2503</td>\n",
        "    </tr>\n",
        "    <tr>\n",
        "      <th>2014-11-08 17:31:00</th>\n",
        "      <td>  1590</td>\n",
        "    </tr>\n",
        "    <tr>\n",
        "      <th>2014-11-08 17:31:01</th>\n",
        "      <td> 11760</td>\n",
        "    </tr>\n",
        "  </tbody>\n",
        "</table>\n",
        "</div>"
       ],
       "metadata": {},
       "output_type": "pyout",
       "prompt_number": 5,
       "text": [
        "                       uid\n",
        "datetime                  \n",
        "2014-11-08 17:30:58   7180\n",
        "2014-11-08 17:30:58  27020\n",
        "2014-11-08 17:30:59   2503\n",
        "2014-11-08 17:31:00   1590\n",
        "2014-11-08 17:31:01  11760"
       ]
      }
     ],
     "prompt_number": 5
    },
    {
     "cell_type": "code",
     "collapsed": false,
     "input": [
      "filter_by = list(set(new_df.uid))"
     ],
     "language": "python",
     "metadata": {},
     "outputs": [],
     "prompt_number": 6
    },
    {
     "cell_type": "code",
     "collapsed": false,
     "input": [
      "len(filter_by)"
     ],
     "language": "python",
     "metadata": {},
     "outputs": [
      {
       "metadata": {},
       "output_type": "pyout",
       "prompt_number": 7,
       "text": [
        "211729"
       ]
      }
     ],
     "prompt_number": 7
    },
    {
     "cell_type": "code",
     "collapsed": false,
     "input": [
      "filtered_df = new_df.drop_duplicates(subset='uid', take_last=False)"
     ],
     "language": "python",
     "metadata": {},
     "outputs": [],
     "prompt_number": 8
    },
    {
     "cell_type": "code",
     "collapsed": false,
     "input": [
      "len(filtered_df)"
     ],
     "language": "python",
     "metadata": {},
     "outputs": [
      {
       "metadata": {},
       "output_type": "pyout",
       "prompt_number": 9,
       "text": [
        "211729"
       ]
      }
     ],
     "prompt_number": 9
    },
    {
     "cell_type": "code",
     "collapsed": false,
     "input": [
      "filtered_df.head()"
     ],
     "language": "python",
     "metadata": {},
     "outputs": [
      {
       "html": [
        "<div style=\"max-height:1000px;max-width:1500px;overflow:auto;\">\n",
        "<table border=\"1\" class=\"dataframe\">\n",
        "  <thead>\n",
        "    <tr style=\"text-align: right;\">\n",
        "      <th></th>\n",
        "      <th>uid</th>\n",
        "    </tr>\n",
        "    <tr>\n",
        "      <th>datetime</th>\n",
        "      <th></th>\n",
        "    </tr>\n",
        "  </thead>\n",
        "  <tbody>\n",
        "    <tr>\n",
        "      <th>2014-11-08 17:30:58</th>\n",
        "      <td>  7180</td>\n",
        "    </tr>\n",
        "    <tr>\n",
        "      <th>2014-11-08 17:30:58</th>\n",
        "      <td> 27020</td>\n",
        "    </tr>\n",
        "    <tr>\n",
        "      <th>2014-11-08 17:30:59</th>\n",
        "      <td>  2503</td>\n",
        "    </tr>\n",
        "    <tr>\n",
        "      <th>2014-11-08 17:31:00</th>\n",
        "      <td>  1590</td>\n",
        "    </tr>\n",
        "    <tr>\n",
        "      <th>2014-11-08 17:31:01</th>\n",
        "      <td> 11760</td>\n",
        "    </tr>\n",
        "  </tbody>\n",
        "</table>\n",
        "</div>"
       ],
       "metadata": {},
       "output_type": "pyout",
       "prompt_number": 10,
       "text": [
        "                       uid\n",
        "datetime                  \n",
        "2014-11-08 17:30:58   7180\n",
        "2014-11-08 17:30:58  27020\n",
        "2014-11-08 17:30:59   2503\n",
        "2014-11-08 17:31:00   1590\n",
        "2014-11-08 17:31:01  11760"
       ]
      }
     ],
     "prompt_number": 10
    },
    {
     "cell_type": "code",
     "collapsed": false,
     "input": [
      "wanted_range = pd.date_range(start='2014-11-08',end='2014-11-28')\n",
      "wanted_range"
     ],
     "language": "python",
     "metadata": {},
     "outputs": [
      {
       "metadata": {},
       "output_type": "pyout",
       "prompt_number": 11,
       "text": [
        "<class 'pandas.tseries.index.DatetimeIndex'>\n",
        "[2014-11-08, ..., 2014-11-28]\n",
        "Length: 21, Freq: D, Timezone: None"
       ]
      }
     ],
     "prompt_number": 11
    },
    {
     "cell_type": "code",
     "collapsed": false,
     "input": [
      "grouped_df = filtered_df.groupby(filtered_df.index.date).count().reindex(wanted_range)\n",
      "grouped_df"
     ],
     "language": "python",
     "metadata": {},
     "outputs": [
      {
       "html": [
        "<div style=\"max-height:1000px;max-width:1500px;overflow:auto;\">\n",
        "<table border=\"1\" class=\"dataframe\">\n",
        "  <thead>\n",
        "    <tr style=\"text-align: right;\">\n",
        "      <th></th>\n",
        "      <th>uid</th>\n",
        "    </tr>\n",
        "  </thead>\n",
        "  <tbody>\n",
        "    <tr>\n",
        "      <th>2014-11-08</th>\n",
        "      <td> 15256</td>\n",
        "    </tr>\n",
        "    <tr>\n",
        "      <th>2014-11-09</th>\n",
        "      <td> 23113</td>\n",
        "    </tr>\n",
        "    <tr>\n",
        "      <th>2014-11-10</th>\n",
        "      <td> 13295</td>\n",
        "    </tr>\n",
        "    <tr>\n",
        "      <th>2014-11-11</th>\n",
        "      <td>  9303</td>\n",
        "    </tr>\n",
        "    <tr>\n",
        "      <th>2014-11-12</th>\n",
        "      <td>  8558</td>\n",
        "    </tr>\n",
        "    <tr>\n",
        "      <th>2014-11-13</th>\n",
        "      <td>  6210</td>\n",
        "    </tr>\n",
        "    <tr>\n",
        "      <th>2014-11-14</th>\n",
        "      <td>  7128</td>\n",
        "    </tr>\n",
        "    <tr>\n",
        "      <th>2014-11-15</th>\n",
        "      <td>  6056</td>\n",
        "    </tr>\n",
        "    <tr>\n",
        "      <th>2014-11-16</th>\n",
        "      <td>  6213</td>\n",
        "    </tr>\n",
        "    <tr>\n",
        "      <th>2014-11-17</th>\n",
        "      <td>  5335</td>\n",
        "    </tr>\n",
        "    <tr>\n",
        "      <th>2014-11-18</th>\n",
        "      <td> 13596</td>\n",
        "    </tr>\n",
        "    <tr>\n",
        "      <th>2014-11-19</th>\n",
        "      <td>  8540</td>\n",
        "    </tr>\n",
        "    <tr>\n",
        "      <th>2014-11-20</th>\n",
        "      <td>  5690</td>\n",
        "    </tr>\n",
        "    <tr>\n",
        "      <th>2014-11-21</th>\n",
        "      <td>  4194</td>\n",
        "    </tr>\n",
        "    <tr>\n",
        "      <th>2014-11-22</th>\n",
        "      <td>  5726</td>\n",
        "    </tr>\n",
        "    <tr>\n",
        "      <th>2014-11-23</th>\n",
        "      <td>  6065</td>\n",
        "    </tr>\n",
        "    <tr>\n",
        "      <th>2014-11-24</th>\n",
        "      <td>  4272</td>\n",
        "    </tr>\n",
        "    <tr>\n",
        "      <th>2014-11-25</th>\n",
        "      <td> 26722</td>\n",
        "    </tr>\n",
        "    <tr>\n",
        "      <th>2014-11-26</th>\n",
        "      <td>  4992</td>\n",
        "    </tr>\n",
        "    <tr>\n",
        "      <th>2014-11-27</th>\n",
        "      <td>  5577</td>\n",
        "    </tr>\n",
        "    <tr>\n",
        "      <th>2014-11-28</th>\n",
        "      <td> 10219</td>\n",
        "    </tr>\n",
        "  </tbody>\n",
        "</table>\n",
        "</div>"
       ],
       "metadata": {},
       "output_type": "pyout",
       "prompt_number": 12,
       "text": [
        "              uid\n",
        "2014-11-08  15256\n",
        "2014-11-09  23113\n",
        "2014-11-10  13295\n",
        "2014-11-11   9303\n",
        "2014-11-12   8558\n",
        "2014-11-13   6210\n",
        "2014-11-14   7128\n",
        "2014-11-15   6056\n",
        "2014-11-16   6213\n",
        "2014-11-17   5335\n",
        "2014-11-18  13596\n",
        "2014-11-19   8540\n",
        "2014-11-20   5690\n",
        "2014-11-21   4194\n",
        "2014-11-22   5726\n",
        "2014-11-23   6065\n",
        "2014-11-24   4272\n",
        "2014-11-25  26722\n",
        "2014-11-26   4992\n",
        "2014-11-27   5577\n",
        "2014-11-28  10219"
       ]
      }
     ],
     "prompt_number": 12
    },
    {
     "cell_type": "code",
     "collapsed": false,
     "input": [
      "grouped_df['uid'].sum()"
     ],
     "language": "python",
     "metadata": {},
     "outputs": [
      {
       "metadata": {},
       "output_type": "pyout",
       "prompt_number": 13,
       "text": [
        "196060"
       ]
      }
     ],
     "prompt_number": 13
    },
    {
     "cell_type": "code",
     "collapsed": false,
     "input": [
      "grouped_df.plot(kind=\"bar\",rot=25, figsize=(20,12), alpha=.7, legend=False, color='DarkGreen')\n",
      "\n",
      "plt.title('New Users / Day: \"Palestine\" -- November 2014')\n",
      "plt.ylabel('# of users')\n",
      "plt.xlabel('date')"
     ],
     "language": "python",
     "metadata": {},
     "outputs": [
      {
       "metadata": {},
       "output_type": "pyout",
       "prompt_number": 17,
       "text": [
        "<matplotlib.text.Text at 0x113040710>"
       ]
      },
      {
       "metadata": {},
       "output_type": "display_data",
       "png": "[encoded data removed]",
       "text": [
        "<matplotlib.figure.Figure at 0x113180910>"
       ]
      }
     ],
     "prompt_number": 17
    },
    {
     "cell_type": "code",
     "collapsed": false,
     "input": [],
     "language": "python",
     "metadata": {},
     "outputs": []
    }
   ],
   "metadata": {}
  }
 ]
}